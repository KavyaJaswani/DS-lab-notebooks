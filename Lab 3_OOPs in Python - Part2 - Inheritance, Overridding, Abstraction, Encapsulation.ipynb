{
 "cells": [
  {
   "cell_type": "markdown",
   "metadata": {
    "colab_type": "text",
    "id": "eaNq4Gmi9Qic"
   },
   "source": [
    "# OOPs in Python - Inheritance, Overridding, Abstraction, Encapsulation\n",
    "\n",
    "#### Topics\n",
    "Major object-oriented concepts of Python are:\n",
    "- Inheritance\n",
    "- Multiple Inheritance\n",
    "\n",
    "##### Note: \n",
    "1. First Clean the Evironment (Go to \"Kernel\" Menu --> \"Restart & Clean Output\"\n",
    "2. To execute the code --> Click on a cell and press cntrl + enter key"
   ]
  },
  {
   "cell_type": "markdown",
   "metadata": {},
   "source": [
    "### 1 Inheritance: Inherit From Other Classes in Python\n",
    "- Inheritance is the process by which one class takes on the attributes and methods of another.\n",
    "- Newly formed classes are called child classes, and the classes that child classes are derived from are called parent classes."
   ]
  },
  {
   "cell_type": "markdown",
   "metadata": {},
   "source": [
    "### 1.1 Create Parent Class"
   ]
  },
  {
   "cell_type": "code",
   "execution_count": 2,
   "metadata": {
    "colab": {
     "base_uri": "https://localhost:8080/",
     "height": 35
    },
    "colab_type": "code",
    "executionInfo": {
     "elapsed": 1478,
     "status": "ok",
     "timestamp": 1590401820703,
     "user": {
      "displayName": "Prashant Singh Rana",
      "photoUrl": "https://lh3.googleusercontent.com/a-/AOh14Gi2FtAQLyyuUB_MxR3VjjpuNfLOCJ-1R_qmOCsPLg=s64",
      "userId": "12245731978561464083"
     },
     "user_tz": -330
    },
    "id": "eikxCFcN-7AR",
    "outputId": "69d3d3da-b19c-4b8d-b9b8-e78dfcdec3e2",
    "scrolled": true
   },
   "outputs": [
    {
     "name": "stdout",
     "output_type": "stream",
     "text": [
      "Hari Tiger\n"
     ]
    }
   ],
   "source": [
    "class Person:\n",
    "    \n",
    "    def __init__(self, fname, lname):\n",
    "        self.firstname = fname\n",
    "        self.lastname = lname\n",
    "\n",
    "    def printName(self):\n",
    "        print(self.firstname, self.lastname)\n",
    "\n",
    "#Use the Person class to create an object, and then execute the printname method:\n",
    "x = Person(\"Hari\", \"Tiger\")\n",
    "x.printName() \n"
   ]
  },
  {
   "cell_type": "markdown",
   "metadata": {},
   "source": [
    "### 1.2 Create Child Class"
   ]
  },
  {
   "cell_type": "code",
   "execution_count": 3,
   "metadata": {
    "colab": {
     "base_uri": "https://localhost:8080/",
     "height": 35
    },
    "colab_type": "code",
    "executionInfo": {
     "elapsed": 1478,
     "status": "ok",
     "timestamp": 1590401820703,
     "user": {
      "displayName": "Prashant Singh Rana",
      "photoUrl": "https://lh3.googleusercontent.com/a-/AOh14Gi2FtAQLyyuUB_MxR3VjjpuNfLOCJ-1R_qmOCsPLg=s64",
      "userId": "12245731978561464083"
     },
     "user_tz": -330
    },
    "id": "eikxCFcN-7AR",
    "outputId": "69d3d3da-b19c-4b8d-b9b8-e78dfcdec3e2",
    "scrolled": true
   },
   "outputs": [
    {
     "name": "stdout",
     "output_type": "stream",
     "text": [
      "Hari Shankar\n"
     ]
    }
   ],
   "source": [
    "class Student(Person):\n",
    "    pass\n",
    "\n",
    "x = Student(\"Hari\", \"Shankar\")\n",
    "x.printName()\n"
   ]
  },
  {
   "cell_type": "markdown",
   "metadata": {},
   "source": [
    "### 1.3 Add the _ _ init _ _ () Function in Child Class\n",
    "\n",
    "- Note: The child's _ _ init _ _ () function overrides the inheritance of the parent's _ _ init _ _ () function."
   ]
  },
  {
   "cell_type": "code",
   "execution_count": 4,
   "metadata": {
    "colab": {
     "base_uri": "https://localhost:8080/",
     "height": 35
    },
    "colab_type": "code",
    "executionInfo": {
     "elapsed": 1478,
     "status": "ok",
     "timestamp": 1590401820703,
     "user": {
      "displayName": "Prashant Singh Rana",
      "photoUrl": "https://lh3.googleusercontent.com/a-/AOh14Gi2FtAQLyyuUB_MxR3VjjpuNfLOCJ-1R_qmOCsPLg=s64",
      "userId": "12245731978561464083"
     },
     "user_tz": -330
    },
    "id": "eikxCFcN-7AR",
    "outputId": "69d3d3da-b19c-4b8d-b9b8-e78dfcdec3e2",
    "scrolled": true
   },
   "outputs": [
    {
     "name": "stdout",
     "output_type": "stream",
     "text": [
      "Harpreet Singh\n"
     ]
    }
   ],
   "source": [
    "class Student(Person):\n",
    "    def __init__(self, fname, lname):\n",
    "        self.firstname = fname\n",
    "        self.lastname = lname\n",
    "\n",
    "x = Student(\"Harpreet\", \"Singh\")\n",
    "x.printName()\n"
   ]
  },
  {
   "cell_type": "markdown",
   "metadata": {},
   "source": [
    "### 1.4 Call in _ _ init _ _ () Function of Parent Class"
   ]
  },
  {
   "cell_type": "code",
   "execution_count": null,
   "metadata": {
    "colab": {
     "base_uri": "https://localhost:8080/",
     "height": 35
    },
    "colab_type": "code",
    "executionInfo": {
     "elapsed": 1478,
     "status": "ok",
     "timestamp": 1590401820703,
     "user": {
      "displayName": "Prashant Singh Rana",
      "photoUrl": "https://lh3.googleusercontent.com/a-/AOh14Gi2FtAQLyyuUB_MxR3VjjpuNfLOCJ-1R_qmOCsPLg=s64",
      "userId": "12245731978561464083"
     },
     "user_tz": -330
    },
    "id": "eikxCFcN-7AR",
    "outputId": "69d3d3da-b19c-4b8d-b9b8-e78dfcdec3e2",
    "scrolled": true
   },
   "outputs": [],
   "source": [
    "class Student(Person):\n",
    "    def __init__(self, fname, lname):\n",
    "        Person.__init__(self, fname, lname)\n",
    "\n",
    "\n",
    "x = Student(\"Mukesh\", \"Singh\")\n",
    "x.printName()\n"
   ]
  },
  {
   "cell_type": "markdown",
   "metadata": {},
   "source": [
    "### 1.5 Add Properties to Child Class"
   ]
  },
  {
   "cell_type": "code",
   "execution_count": null,
   "metadata": {
    "colab": {
     "base_uri": "https://localhost:8080/",
     "height": 35
    },
    "colab_type": "code",
    "executionInfo": {
     "elapsed": 1478,
     "status": "ok",
     "timestamp": 1590401820703,
     "user": {
      "displayName": "Prashant Singh Rana",
      "photoUrl": "https://lh3.googleusercontent.com/a-/AOh14Gi2FtAQLyyuUB_MxR3VjjpuNfLOCJ-1R_qmOCsPLg=s64",
      "userId": "12245731978561464083"
     },
     "user_tz": -330
    },
    "id": "eikxCFcN-7AR",
    "outputId": "69d3d3da-b19c-4b8d-b9b8-e78dfcdec3e2",
    "scrolled": true
   },
   "outputs": [],
   "source": [
    "class Student(Person):\n",
    "    def __init__(self, fname, lname, year):\n",
    "        super().__init__(fname, lname)\n",
    "        self.graduationyear = year\n",
    "\n",
    "x = Student(\"Pratham\", \"Rana\", 2019)\n",
    "x.printName()\n"
   ]
  },
  {
   "cell_type": "markdown",
   "metadata": {},
   "source": [
    "### 1.6 Add Method to Child Class"
   ]
  },
  {
   "cell_type": "code",
   "execution_count": null,
   "metadata": {
    "colab": {
     "base_uri": "https://localhost:8080/",
     "height": 35
    },
    "colab_type": "code",
    "executionInfo": {
     "elapsed": 1478,
     "status": "ok",
     "timestamp": 1590401820703,
     "user": {
      "displayName": "Prashant Singh Rana",
      "photoUrl": "https://lh3.googleusercontent.com/a-/AOh14Gi2FtAQLyyuUB_MxR3VjjpuNfLOCJ-1R_qmOCsPLg=s64",
      "userId": "12245731978561464083"
     },
     "user_tz": -330
    },
    "id": "eikxCFcN-7AR",
    "outputId": "69d3d3da-b19c-4b8d-b9b8-e78dfcdec3e2",
    "scrolled": true
   },
   "outputs": [],
   "source": [
    "class Student(Person):\n",
    "    def __init__(self, fname, lname, year):\n",
    "        super().__init__(fname, lname)\n",
    "        self.graduationyear = year\n",
    "\n",
    "    def welcome(self):\n",
    "        print(\"Welcome\", self.firstname, self.lastname, \"to the class of\", self.graduationyear)\n",
    "\n",
    "x = Student(\"Harish\", \"Sharma\", 2019)\n",
    "x.welcome()\n"
   ]
  },
  {
   "cell_type": "markdown",
   "metadata": {},
   "source": [
    "### 1.7 Use of super() Function\n",
    "\n",
    "- super() function make the child class inherit all the methods and properties from its parent:\n",
    "- Access the parent class from inside a method of a child class "
   ]
  },
  {
   "cell_type": "code",
   "execution_count": null,
   "metadata": {
    "colab": {
     "base_uri": "https://localhost:8080/",
     "height": 35
    },
    "colab_type": "code",
    "executionInfo": {
     "elapsed": 1478,
     "status": "ok",
     "timestamp": 1590401820703,
     "user": {
      "displayName": "Prashant Singh Rana",
      "photoUrl": "https://lh3.googleusercontent.com/a-/AOh14Gi2FtAQLyyuUB_MxR3VjjpuNfLOCJ-1R_qmOCsPLg=s64",
      "userId": "12245731978561464083"
     },
     "user_tz": -330
    },
    "id": "eikxCFcN-7AR",
    "outputId": "69d3d3da-b19c-4b8d-b9b8-e78dfcdec3e2",
    "scrolled": true
   },
   "outputs": [],
   "source": [
    "#Example 1:\n",
    "class Parent:\n",
    "    def func1(self):\n",
    "        print(\"I am in Parent Class\")\n",
    "\n",
    "class Child(Parent):\n",
    "    def func2(self):\n",
    "        super().func1()\n",
    "        print(\"I am in Child Class\")\n",
    "\n",
    "o = Child()\n",
    "o.func2()\n",
    "o.func1()\n"
   ]
  },
  {
   "cell_type": "code",
   "execution_count": null,
   "metadata": {
    "colab": {
     "base_uri": "https://localhost:8080/",
     "height": 35
    },
    "colab_type": "code",
    "executionInfo": {
     "elapsed": 1478,
     "status": "ok",
     "timestamp": 1590401820703,
     "user": {
      "displayName": "Prashant Singh Rana",
      "photoUrl": "https://lh3.googleusercontent.com/a-/AOh14Gi2FtAQLyyuUB_MxR3VjjpuNfLOCJ-1R_qmOCsPLg=s64",
      "userId": "12245731978561464083"
     },
     "user_tz": -330
    },
    "id": "eikxCFcN-7AR",
    "outputId": "69d3d3da-b19c-4b8d-b9b8-e78dfcdec3e2",
    "scrolled": true
   },
   "outputs": [],
   "source": [
    "#Example 2:\n",
    "class Parent:\n",
    "    def func1(self):\n",
    "        print(\"I am in Parent Class\")\n",
    "\n",
    "class Child(Parent):\n",
    "    def func2(self, a):\n",
    "        if a <= 5:\n",
    "            super().func1()\n",
    "        else:\n",
    "            print(\"I am in Child Class\")\n",
    "\n",
    "o = Child()\n",
    "o.func2(5)\n",
    "o.func2(10)\n"
   ]
  },
  {
   "cell_type": "markdown",
   "metadata": {},
   "source": [
    "## 2. Type of Inheritance\n",
    "- Single Inheritance\n",
    "- Multiple Inheritance\n",
    "- Multilevel Inheritance\n",
    "- Hybrid Inheritance\n"
   ]
  },
  {
   "cell_type": "markdown",
   "metadata": {},
   "source": [
    "### 2.1 Single Inheritance"
   ]
  },
  {
   "cell_type": "code",
   "execution_count": null,
   "metadata": {
    "colab": {
     "base_uri": "https://localhost:8080/",
     "height": 35
    },
    "colab_type": "code",
    "executionInfo": {
     "elapsed": 1478,
     "status": "ok",
     "timestamp": 1590401820703,
     "user": {
      "displayName": "Prashant Singh Rana",
      "photoUrl": "https://lh3.googleusercontent.com/a-/AOh14Gi2FtAQLyyuUB_MxR3VjjpuNfLOCJ-1R_qmOCsPLg=s64",
      "userId": "12245731978561464083"
     },
     "user_tz": -330
    },
    "id": "eikxCFcN-7AR",
    "outputId": "69d3d3da-b19c-4b8d-b9b8-e78dfcdec3e2",
    "scrolled": true
   },
   "outputs": [],
   "source": [
    "class Parent:\n",
    "    \n",
    "    def func1(self):\n",
    "        print(\"This is function one\")\n",
    "\n",
    "class Child(Parent):\n",
    "    def func2(self):\n",
    "        print(\"This is function 2\")\n",
    "\n",
    "ob = Child()\n",
    "ob.func1()\n",
    "ob.func2()\n"
   ]
  },
  {
   "cell_type": "markdown",
   "metadata": {},
   "source": [
    "### 2.2 Multiple Inheritance"
   ]
  },
  {
   "cell_type": "code",
   "execution_count": null,
   "metadata": {
    "colab": {
     "base_uri": "https://localhost:8080/",
     "height": 35
    },
    "colab_type": "code",
    "executionInfo": {
     "elapsed": 1478,
     "status": "ok",
     "timestamp": 1590401820703,
     "user": {
      "displayName": "Prashant Singh Rana",
      "photoUrl": "https://lh3.googleusercontent.com/a-/AOh14Gi2FtAQLyyuUB_MxR3VjjpuNfLOCJ-1R_qmOCsPLg=s64",
      "userId": "12245731978561464083"
     },
     "user_tz": -330
    },
    "id": "eikxCFcN-7AR",
    "outputId": "69d3d3da-b19c-4b8d-b9b8-e78dfcdec3e2",
    "scrolled": true
   },
   "outputs": [],
   "source": [
    "class Parent1:\n",
    "    def func1(self):\n",
    "        print(\"In Parent1\")\n",
    "\n",
    "class Parent2:\n",
    "    def func1(self):\n",
    "        print(\"In Parent2\")\n",
    "\n",
    "class Child(Parent1, Parent2):\n",
    "    pass\n",
    "\n",
    "o = Child()\n",
    "o.func1()\n",
    "o.func1()\n"
   ]
  },
  {
   "cell_type": "markdown",
   "metadata": {},
   "source": [
    "### 2.3 Multilevel Inheritance"
   ]
  },
  {
   "cell_type": "code",
   "execution_count": null,
   "metadata": {
    "colab": {
     "base_uri": "https://localhost:8080/",
     "height": 35
    },
    "colab_type": "code",
    "executionInfo": {
     "elapsed": 1478,
     "status": "ok",
     "timestamp": 1590401820703,
     "user": {
      "displayName": "Prashant Singh Rana",
      "photoUrl": "https://lh3.googleusercontent.com/a-/AOh14Gi2FtAQLyyuUB_MxR3VjjpuNfLOCJ-1R_qmOCsPLg=s64",
      "userId": "12245731978561464083"
     },
     "user_tz": -330
    },
    "id": "eikxCFcN-7AR",
    "outputId": "69d3d3da-b19c-4b8d-b9b8-e78dfcdec3e2",
    "scrolled": true
   },
   "outputs": [],
   "source": [
    "# Example 1:\n",
    "class Parent:\n",
    "    def func1(self):\n",
    "        print(\"This is function 1\")\n",
    "\n",
    "class Child1(Parent):\n",
    "    def func2(self):\n",
    "        print(\"This is function 2\")\n",
    "\n",
    "class Child2(Child1):\n",
    "    def func3(self):\n",
    "        print(\"This is function 3\")\n",
    "\n",
    "ob = Child2()\n",
    "ob.func1()\n",
    "ob.func2()\n",
    "ob.func3()\n"
   ]
  },
  {
   "cell_type": "code",
   "execution_count": null,
   "metadata": {
    "colab": {
     "base_uri": "https://localhost:8080/",
     "height": 35
    },
    "colab_type": "code",
    "executionInfo": {
     "elapsed": 1478,
     "status": "ok",
     "timestamp": 1590401820703,
     "user": {
      "displayName": "Prashant Singh Rana",
      "photoUrl": "https://lh3.googleusercontent.com/a-/AOh14Gi2FtAQLyyuUB_MxR3VjjpuNfLOCJ-1R_qmOCsPLg=s64",
      "userId": "12245731978561464083"
     },
     "user_tz": -330
    },
    "id": "eikxCFcN-7AR",
    "outputId": "69d3d3da-b19c-4b8d-b9b8-e78dfcdec3e2",
    "scrolled": true
   },
   "outputs": [],
   "source": [
    "# Example 2:\n",
    "\n",
    "class Parent:\n",
    "    def add(self, a, b, c, d):\n",
    "        print(\"Sum is: \", a + b + c + d)\n",
    "\n",
    "class Child1(Parent):\n",
    "    def add(self, a, b, c):\n",
    "        print(\"Sum is: \", a + b + c )\n",
    "\n",
    "class Child2(Child1):\n",
    "    def add(self, a, b):\n",
    "        print(\"Sum is: \", a + b )\n",
    "\n",
    "\n",
    "o1 = Child2()\n",
    "o1.add(10,20)\n",
    "#o1.add(10,20,30)\n"
   ]
  },
  {
   "cell_type": "code",
   "execution_count": null,
   "metadata": {
    "colab": {
     "base_uri": "https://localhost:8080/",
     "height": 35
    },
    "colab_type": "code",
    "executionInfo": {
     "elapsed": 1478,
     "status": "ok",
     "timestamp": 1590401820703,
     "user": {
      "displayName": "Prashant Singh Rana",
      "photoUrl": "https://lh3.googleusercontent.com/a-/AOh14Gi2FtAQLyyuUB_MxR3VjjpuNfLOCJ-1R_qmOCsPLg=s64",
      "userId": "12245731978561464083"
     },
     "user_tz": -330
    },
    "id": "eikxCFcN-7AR",
    "outputId": "69d3d3da-b19c-4b8d-b9b8-e78dfcdec3e2",
    "scrolled": true
   },
   "outputs": [],
   "source": [
    "# Example 3:\n",
    "\n",
    "class Parent:\n",
    "    def add(self, c):\n",
    "        if len(c) > 4:\n",
    "            print(\"Error!! Input parameters are greater than 4\")\n",
    "        else:\n",
    "            print(\"Sum is: \", sum(c))\n",
    "\n",
    "class Child1(Parent):\n",
    "    def add(self, b):\n",
    "        if len(b) > 3:\n",
    "            super().add(b)\n",
    "        else:\n",
    "            print(\"Sum is: \", sum(b))\n",
    "\n",
    "class Child2(Child1):\n",
    "    def add(self, a):\n",
    "        if len(a) > 2:\n",
    "            super().add(a)\n",
    "        else:\n",
    "            print(\"Sum is: \", sum(a))\n",
    "\n",
    "\n",
    "o1 = Child2()\n",
    "#o1.add([10,20])\n",
    "#o1.add([10,20,30])\n",
    "#o1.add([10,20,30,40])\n",
    "o1.add([10,20,30,40,50])\n"
   ]
  },
  {
   "cell_type": "markdown",
   "metadata": {},
   "source": [
    "### 2.4 Hybrid Inheritance"
   ]
  },
  {
   "cell_type": "code",
   "execution_count": null,
   "metadata": {
    "colab": {
     "base_uri": "https://localhost:8080/",
     "height": 35
    },
    "colab_type": "code",
    "executionInfo": {
     "elapsed": 1478,
     "status": "ok",
     "timestamp": 1590401820703,
     "user": {
      "displayName": "Prashant Singh Rana",
      "photoUrl": "https://lh3.googleusercontent.com/a-/AOh14Gi2FtAQLyyuUB_MxR3VjjpuNfLOCJ-1R_qmOCsPLg=s64",
      "userId": "12245731978561464083"
     },
     "user_tz": -330
    },
    "id": "eikxCFcN-7AR",
    "outputId": "69d3d3da-b19c-4b8d-b9b8-e78dfcdec3e2",
    "scrolled": true
   },
   "outputs": [],
   "source": [
    "class Parent:\n",
    "    def func1(self):\n",
    "        print(\"This is function one\")\n",
    "\n",
    "class Child1(Parent):\n",
    "    def func2(self):\n",
    "        print(\"This is function 2\")\n",
    "\n",
    "class Child2(Parent):\n",
    "    def func3(self):\n",
    "        print(\"This is function 3\")\n",
    "\n",
    "class Child3(Child1, Child2):\n",
    "    def func4(self):\n",
    "        print(\"This is function 4\")\n",
    "\n",
    "ob = Child3()\n",
    "ob.func1()   \n",
    "\n",
    "\n"
   ]
  },
  {
   "cell_type": "code",
   "execution_count": null,
   "metadata": {},
   "outputs": [],
   "source": [
    "# Error\n",
    "class Child3(Parent, Child2):      # Error not allowed\n",
    "    def func4(self):\n",
    "        print(\"This is function 4\")\n",
    "ob = Child3()\n",
    "ob.func1()   \n",
    "\n"
   ]
  },
  {
   "cell_type": "markdown",
   "metadata": {},
   "source": [
    "## 3. Overridding\n",
    "- Method with the same name defined in parent anc child class\n"
   ]
  },
  {
   "cell_type": "code",
   "execution_count": null,
   "metadata": {},
   "outputs": [],
   "source": [
    "# Example 1:\n",
    "\n",
    "class Bank:\n",
    "    def getROI(self):\n",
    "        return 10\n",
    "\n",
    "class SBI(Bank):\n",
    "    def getROI(self):\n",
    "        return 7\n",
    "      \n",
    "class ICICI(Bank):\n",
    "    def getROI(self):\n",
    "        return 8\n",
    "    \n",
    "b1 = Bank()\n",
    "b2 = SBI()\n",
    "b3 = ICICI()\n",
    "\n",
    "print(\"Bank Rate of interest:\",b1.getROI())\n",
    "print(\"SBI Rate of interest:\",b2.getROI())\n",
    "print(\"ICICI Rate of interest:\",b3.getROI())\n"
   ]
  },
  {
   "cell_type": "code",
   "execution_count": null,
   "metadata": {
    "colab": {
     "base_uri": "https://localhost:8080/",
     "height": 35
    },
    "colab_type": "code",
    "executionInfo": {
     "elapsed": 1478,
     "status": "ok",
     "timestamp": 1590401820703,
     "user": {
      "displayName": "Prashant Singh Rana",
      "photoUrl": "https://lh3.googleusercontent.com/a-/AOh14Gi2FtAQLyyuUB_MxR3VjjpuNfLOCJ-1R_qmOCsPLg=s64",
      "userId": "12245731978561464083"
     },
     "user_tz": -330
    },
    "id": "eikxCFcN-7AR",
    "outputId": "69d3d3da-b19c-4b8d-b9b8-e78dfcdec3e2",
    "scrolled": true
   },
   "outputs": [],
   "source": [
    "# Example 2:\n",
    "\n",
    "class Employee:\n",
    "    \n",
    "    def __init__(self, name):\n",
    "        self.name = name\n",
    "        \n",
    "    def say_hi(self):\n",
    "        print(\"Hi, I am \" + self.name)\n",
    "        \n",
    "class Teacher(Employee):\n",
    "\n",
    "    def say_hi(self):\n",
    "        print(\"Everything will be okay! \") \n",
    "        print(self.name + \" takes care of you!\")\n",
    "\n",
    "y = Teacher(\"Hari Prasad\")\n",
    "y.say_hi()\n",
    "\n",
    "Employee.say_hi(y)  # Called the method with the class name\n",
    "\n",
    "# Employee.say_hi(\"Some Text\")  # Not Work\n"
   ]
  },
  {
   "cell_type": "markdown",
   "metadata": {},
   "source": [
    "## 4. Data abstraction (Encapsulation) in python\n",
    "\n",
    "- To declare private variable use double under score\n",
    "- To declare protected variable use single under score\n"
   ]
  },
  {
   "cell_type": "code",
   "execution_count": null,
   "metadata": {},
   "outputs": [],
   "source": [
    "#Example 1: Private variable - accessible with in the child only\n",
    "\n",
    "class Employee:\n",
    "\n",
    "    __count = 0  # Private Variable\n",
    "    \n",
    "    def __init__(self):\n",
    "        Employee.__count = Employee.__count + 1\n",
    "    \n",
    "    def display(self):\n",
    "        print(\"The number of employees\", Employee.__count)\n",
    "\n",
    "emp1 = Employee()\n",
    "emp2 = Employee()\n",
    "emp3 = Employee()\n",
    "\n",
    "emp1.display()         # Display the number of object created\n",
    "\n",
    "# Uncomment the below code and run one-by-one\n",
    "\n",
    "#print(Employee.__count)  # Error; __count is not accessible through class name\n",
    "#print(emp1.__count)      # Error; __count is not accessible through class object\n"
   ]
  },
  {
   "cell_type": "code",
   "execution_count": null,
   "metadata": {},
   "outputs": [],
   "source": [
    "#Example 2: Protected variable - accesible in child class\n",
    "\n",
    "class Base:\n",
    "    def __init__(self):\n",
    "        # Protected member\n",
    "        self._a = 2\n",
    "\n",
    "\n",
    "class Derived(Base):\n",
    "    def __init__(self):\n",
    "        # Calling constructor of Base class\n",
    "        Base.__init__(self) \n",
    "        print(\"Calling protected member of base class: \")\n",
    "        print(self._a)\n",
    "\n",
    "o1 = Derived()\n",
    "o2 = Base()\n",
    "\n",
    "# Uncomment the below code and run one-by-one\n",
    "\n",
    "#print(Base._a)  # Error; _a is not accessible through class name\n",
    "#print(o2.a)     # Error; _a is not accessible through class object\n"
   ]
  },
  {
   "cell_type": "markdown",
   "metadata": {},
   "source": [
    "### 5. To determine which class a given object belongs to"
   ]
  },
  {
   "cell_type": "code",
   "execution_count": null,
   "metadata": {},
   "outputs": [],
   "source": [
    "# Parent Class\n",
    "class Parent:\n",
    "    name = None\n",
    "\n",
    "# Child Class\n",
    "class Child1(Parent):\n",
    "    pass\n",
    "\n",
    "class Child2(Parent):\n",
    "    pass\n",
    "\n",
    "# Creating Object\n",
    "o1 = Parent()\n",
    "o2 = Child1()\n",
    "o3 = Child2()\n",
    "\n",
    "# Print Class\n",
    "print (type(o1))\n",
    "print (type(o2))\n",
    "print (type(o3))\n"
   ]
  },
  {
   "cell_type": "markdown",
   "metadata": {},
   "source": [
    "### 6. To Check the instance of class"
   ]
  },
  {
   "cell_type": "code",
   "execution_count": null,
   "metadata": {},
   "outputs": [],
   "source": [
    "# Parent Class\n",
    "class Parent:\n",
    "    name = None\n",
    "\n",
    "# Child Class\n",
    "class Child1(Parent):\n",
    "    pass\n",
    "\n",
    "class Child2(Parent):\n",
    "    pass\n",
    "\n",
    "# Creating Object\n",
    "o1 = Parent()\n",
    "o2 = Child1()\n",
    "o3 = Child2()\n",
    "\n",
    "# Print Class\n",
    "print (\"Is instance of Parent Class\")\n",
    "print (isinstance(o1, Parent))\n",
    "print (isinstance(o2, Parent))\n",
    "print (isinstance(o3, Parent))\n",
    "\n",
    "print (\"\\nIs instance of Child1 Class\")\n",
    "print (isinstance(o1, Child1))\n",
    "print (isinstance(o2, Child1))\n",
    "print (isinstance(o3, Child1))\n",
    "\n",
    "print (\"\\nIs instance of Child2 Class\")\n",
    "print (isinstance(o1, Child2))\n",
    "print (isinstance(o2, Child2))\n",
    "print (isinstance(o3, Child2))"
   ]
  }
 ],
 "metadata": {
  "colab": {
   "collapsed_sections": [],
   "name": "BasicsOfPython.ipynb",
   "provenance": []
  },
  "kernelspec": {
   "display_name": "Python 3",
   "language": "python",
   "name": "python3"
  },
  "language_info": {
   "codemirror_mode": {
    "name": "ipython",
    "version": 3
   },
   "file_extension": ".py",
   "mimetype": "text/x-python",
   "name": "python",
   "nbconvert_exporter": "python",
   "pygments_lexer": "ipython3",
   "version": "3.7.3"
  }
 },
 "nbformat": 4,
 "nbformat_minor": 1
}
